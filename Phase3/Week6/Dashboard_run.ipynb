{
 "cells": [
  {
   "cell_type": "code",
   "execution_count": 23,
   "id": "c7d5b4e9-2708-4cce-a537-e99de898446f",
   "metadata": {},
   "outputs": [],
   "source": [
    "d1=subprocess.Popen([r\"C:\\Users\\chnds\\anaconda3\\Scripts\\streamlit.EXE\", \"run\",r\"C:\\Users\\chnds\\Downloads\\Capstone_Proj_Final\\Capstone_Project\\Phase3\\Week6\\dashboard1.py\"])\n",
    "d1.terminate()\n",
    "d2=subprocess.Popen([ r\"C:\\Users\\chnds\\anaconda3\\Scripts\\streamlit.EXE\",\"run\",r\"C:\\Users\\chnds\\Downloads\\Capstone_Proj_Final\\Capstone_Project\\Phase3\\Week6\\dashboard2.py\"])\n"
   ]
  },
  {
   "cell_type": "code",
   "execution_count": 27,
   "id": "02cad441-1ad5-43d1-a9b6-1a7ce5039ddc",
   "metadata": {},
   "outputs": [],
   "source": [
    "d1 = subprocess.Popen([\n",
    "    r\"C:\\Users\\chnds\\anaconda3\\Scripts\\streamlit.EXE\",\n",
    "    \"run\",\n",
    "    r\"C:\\Users\\chnds\\Downloads\\Capstone_Proj_Final\\Capstone_Project\\Phase3\\Week6\\dashboard1.py\",\n",
    "    \"--server.port\", \"8501\"\n",
    "])\n",
    "\n",
    "d2 = subprocess.Popen([\n",
    "    r\"C:\\Users\\chnds\\anaconda3\\Scripts\\streamlit.EXE\",\n",
    "    \"run\",\n",
    "    r\"C:\\Users\\chnds\\Downloads\\Capstone_Proj_Final\\Capstone_Project\\Phase3\\Week6\\dashboard2.py\",\n",
    "    \"--server.port\", \"8502\"\n",
    "])\n"
   ]
  },
  {
   "cell_type": "code",
   "execution_count": null,
   "id": "d7f91979-228e-4f8c-8780-7b88c70a807a",
   "metadata": {},
   "outputs": [],
   "source": []
  }
 ],
 "metadata": {
  "kernelspec": {
   "display_name": "Python [conda env:base] *",
   "language": "python",
   "name": "conda-base-py"
  },
  "language_info": {
   "codemirror_mode": {
    "name": "ipython",
    "version": 3
   },
   "file_extension": ".py",
   "mimetype": "text/x-python",
   "name": "python",
   "nbconvert_exporter": "python",
   "pygments_lexer": "ipython3",
   "version": "3.13.5"
  }
 },
 "nbformat": 4,
 "nbformat_minor": 5
}
