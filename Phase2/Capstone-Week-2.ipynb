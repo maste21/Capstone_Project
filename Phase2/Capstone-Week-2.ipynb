{
 "cells": [
  {
   "cell_type": "code",
   "execution_count": 1,
   "id": "a2cbaa71-858e-4751-8ff6-16e4befbf176",
   "metadata": {
    "execution": {
     "iopub.execute_input": "2025-07-18T05:13:32.535433Z",
     "iopub.status.busy": "2025-07-18T05:13:32.534430Z",
     "iopub.status.idle": "2025-07-18T05:13:42.678915Z",
     "shell.execute_reply": "2025-07-18T05:13:42.678915Z"
    },
    "papermill": {
     "duration": 10.158512,
     "end_time": "2025-07-18T05:13:42.680877",
     "exception": false,
     "start_time": "2025-07-18T05:13:32.522365",
     "status": "completed"
    },
    "tags": []
   },
   "outputs": [
    {
     "data": {
      "text/plain": [
       "197"
      ]
     },
     "execution_count": 1,
     "metadata": {},
     "output_type": "execute_result"
    }
   ],
   "source": [
    "from sqlalchemy import create_engine\n",
    "from sqlalchemy import text\n",
    "from sqlalchemy import Table\n",
    "from sqlalchemy.engine import URL\n",
    "from sqlalchemy import MetaData\n",
    "metadata = MetaData()\n",
    "import pandas as pd\n",
    "import pyodbc\n",
    "from getpass import getpass\n",
    "\n",
    "#Connection Parameters\n",
    "conn_str = f\"\"\"\n",
    "DRIVER={{ODBC Driver 17 for SQL Server}};\n",
    "SERVER=ge-prd.database.windows.net;\n",
    "DATABASE=GreenEnergy_DBP;\n",
    "UID=azureuser;\n",
    "PWD=Sommar2025@@;\n",
    "Encrypt=yes;\n",
    "TrustServerCertificate=no;\n",
    "\"\"\"\n",
    "\n",
    "#Establish connection\n",
    "connection_url = URL.create(\n",
    "    \"mssql+pyodbc\",\n",
    "    query={\"odbc_connect\": conn_str}\n",
    ")\n",
    "engine = create_engine(connection_url)\n",
    "\n",
    "\n",
    "#Table Deletion\n",
    "energy_table = Table(\"energy_data_STG\", metadata, autoload_with=engine)\n",
    "energy_table.drop(engine, checkfirst=True)\n",
    "# Table Creation\n",
    "create_query = \"\"\"\n",
    "CREATE TABLE [dbo].[energy_data_STG](\n",
    "\t[datetime] [datetime] NULL,\n",
    "\t[consumption_kwh] [float] NULL,\n",
    "\t[solar_generation_kwh] [float] NULL,\n",
    "\t[temperature_C] [float] NULL,\n",
    "\t[humidity_percent] [float] NULL,\n",
    "\t[wind_speed_kmph] [float] NULL,\n",
    "\t[ETL_LOAD_FLAG] [int] DEFAULT 0\n",
    ")\n",
    "\"\"\"\n",
    "with engine.connect() as connection:\n",
    "    connection.execute(text(create_query))  \n",
    "    connection.commit() \n",
    "\n",
    "#Load data\n",
    "df = pd.read_csv(r\"C:\\Users\\chnds\\Downloads\\Capstoneproject_Phase2\\merged_energy_data_cleaned.csv\")\n",
    "df.to_sql(\"energy_data_STG\", con=engine, if_exists=\"append\", index=False)"
   ]
  }
 ],
 "metadata": {
  "kernelspec": {
   "display_name": "Python [conda env:base] *",
   "language": "python",
   "name": "conda-base-py"
  },
  "language_info": {
   "codemirror_mode": {
    "name": "ipython",
    "version": 3
   },
   "file_extension": ".py",
   "mimetype": "text/x-python",
   "name": "python",
   "nbconvert_exporter": "python",
   "pygments_lexer": "ipython3",
   "version": "3.13.5"
  },
  "papermill": {
   "default_parameters": {},
   "duration": 12.474124,
   "end_time": "2025-07-18T05:13:43.139377",
   "environment_variables": {},
   "exception": null,
   "input_path": "C:\\Users\\chnds\\Downloads\\Capstone Proj Final\\Capstone Project\\Phase2\\Capstone-Week-2.ipynb",
   "output_path": "Capstone-Week-2.ipynb",
   "parameters": {},
   "start_time": "2025-07-18T05:13:30.665253",
   "version": "2.6.0"
  }
 },
 "nbformat": 4,
 "nbformat_minor": 5
}
